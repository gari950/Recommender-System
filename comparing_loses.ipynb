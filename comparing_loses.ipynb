{
 "cells": [
  {
   "cell_type": "code",
   "execution_count": 41,
   "id": "a05f2d12",
   "metadata": {},
   "outputs": [],
   "source": [
    "import numpy as np\n",
    "import matplotlib\n",
    "import matplotlib.pyplot as plt"
   ]
  },
  {
   "cell_type": "code",
   "execution_count": 42,
   "id": "a170fca6",
   "metadata": {},
   "outputs": [],
   "source": [
    "from lightfm.datasets import fetch_movielens\n",
    "from lightfm import LightFM\n",
    "from lightfm.evaluation import auc_score"
   ]
  },
  {
   "cell_type": "code",
   "execution_count": 43,
   "id": "91f3b1c4",
   "metadata": {},
   "outputs": [],
   "source": [
    "#fetch data and format it\n",
    "data = fetch_movielens()\n",
    "train , test = data['train'], data['test']"
   ]
  },
  {
   "cell_type": "code",
   "execution_count": 44,
   "id": "35529179",
   "metadata": {},
   "outputs": [
    {
     "name": "stdout",
     "output_type": "stream",
     "text": [
      "<943x1682 sparse matrix of type '<class 'numpy.int32'>'\n",
      "\twith 90570 stored elements in COOrdinate format>\n",
      "<943x1682 sparse matrix of type '<class 'numpy.int32'>'\n",
      "\twith 9430 stored elements in COOrdinate format>\n"
     ]
    }
   ],
   "source": [
    "#print testing and training data in string representation\n",
    "print(repr(data['train']))\n",
    "print(repr(data['test']))"
   ]
  },
  {
   "cell_type": "code",
   "execution_count": 45,
   "id": "1def05c6",
   "metadata": {},
   "outputs": [],
   "source": [
    "#create models\n",
    "alpha = 1e-05\n",
    "epochs = 60\n",
    "num_components = 32"
   ]
  },
  {
   "cell_type": "code",
   "execution_count": 46,
   "id": "0a98fa14",
   "metadata": {},
   "outputs": [],
   "source": [
    "warp_model = LightFM(no_components=num_components,  \n",
    "    loss='warp',\n",
    "    item_alpha=alpha,\n",
    "    user_alpha=alpha,\n",
    "    max_sampled=200,\n",
    "    )"
   ]
  },
  {
   "cell_type": "code",
   "execution_count": 47,
   "id": "87162ee8",
   "metadata": {},
   "outputs": [],
   "source": [
    "bpr_model = LightFM(no_components=num_components,  \n",
    "    loss='bpr',\n",
    "    item_alpha=alpha,\n",
    "    user_alpha=alpha,\n",
    "    max_sampled=200,\n",
    "    )"
   ]
  },
  {
   "cell_type": "code",
   "execution_count": 48,
   "id": "5be58667",
   "metadata": {},
   "outputs": [],
   "source": [
    "logistic_model = LightFM(no_components=num_components,  \n",
    "    loss='logistic',\n",
    "    item_alpha=alpha,\n",
    "    user_alpha=alpha,\n",
    "    max_sampled=200,\n",
    "    )"
   ]
  },
  {
   "cell_type": "code",
   "execution_count": 49,
   "id": "d22e4ad1",
   "metadata": {},
   "outputs": [],
   "source": [
    "warp_kos_model = LightFM(no_components=num_components,  \n",
    "    loss='warp-kos',\n",
    "    item_alpha=alpha,\n",
    "    user_alpha=alpha,\n",
    "    max_sampled=200,\n",
    "    )"
   ]
  },
  {
   "cell_type": "code",
   "execution_count": 38,
   "id": "153e2a40",
   "metadata": {},
   "outputs": [],
   "source": [
    "warp_auc = []\n",
    "bpr_auc = []\n",
    "warp_kos_auc = []\n",
    "logistic_auc = []"
   ]
  },
  {
   "cell_type": "code",
   "execution_count": 39,
   "id": "940d682e",
   "metadata": {},
   "outputs": [],
   "source": [
    "for epoch in range(epochs):\n",
    "    warp_model.fit_partial(train, epochs=1)\n",
    "    warp_auc.append(auc_score(warp_model,test,train_interactions=train).mean())"
   ]
  },
  {
   "cell_type": "code",
   "execution_count": 40,
   "id": "21eeec63",
   "metadata": {},
   "outputs": [],
   "source": [
    "for epoch in range(epochs):\n",
    "    bpr_model.fit_partial(train, epochs=1)\n",
    "    bpr_auc.append(auc_score(bpr_model,test,train_interactions=train).mean())"
   ]
  },
  {
   "cell_type": "code",
   "execution_count": 50,
   "id": "6db19e8c",
   "metadata": {},
   "outputs": [],
   "source": [
    "for epoch in range(epochs):\n",
    "    logistic_model.fit_partial(train, epochs=1)\n",
    "    logistic_auc.append(auc_score(logistic_model,test,train_interactions=train).mean())"
   ]
  },
  {
   "cell_type": "code",
   "execution_count": 51,
   "id": "63e1ef93",
   "metadata": {},
   "outputs": [],
   "source": [
    "for epoch in range(epochs):\n",
    "    warp_kos_model.fit_partial(train, epochs=1)\n",
    "    warp_kos_auc.append(auc_score(warp_kos_model,test,train_interactions=train).mean())"
   ]
  },
  {
   "cell_type": "code",
   "execution_count": 63,
   "id": "90ae9863",
   "metadata": {},
   "outputs": [
    {
     "data": {
      "image/png": "[encoded data removed]",
      "text/plain": [
       "<Figure size 432x288 with 1 Axes>"
      ]
     },
     "metadata": {
      "needs_background": "light"
     },
     "output_type": "display_data"
    }
   ],
   "source": [
    "x= np.arange(epochs)\n",
    "plt.plot(x,np.array(warp_auc))\n",
    "plt.plot(x,np.array(bpr_auc))\n",
    "plt.plot(x,np.array(warp_kos_auc))\n",
    "plt.plot(x,np.array(logistic_auc))\n",
    "plt.ylabel('AUC Scores')\n",
    "plt.xlabel('Epochs')\n",
    "plt.legend(['WARP AUC','BPR AUC','WARP-KOS AUC','LOGISTIC AUC'], loc='upper right')\n",
    "plt.show()"
   ]
  },
  {
   "cell_type": "code",
   "execution_count": 77,
   "id": "42c8efb5",
   "metadata": {},
   "outputs": [
    {
     "name": "stdout",
     "output_type": "stream",
     "text": [
      "Hybrid training set AUC using warp loss: 0.9327615\n",
      "Hybrid training set AUC using bpr loss: 0.88347363\n",
      "Hybrid training set AUC using logistic loss: 0.8658272\n",
      "Hybrid training set AUC using warp_kos loss: 0.9050389\n"
     ]
    }
   ],
   "source": [
    "print('Hybrid training set AUC using warp loss: %s' % np.array(warp_auc).mean())\n",
    "print('Hybrid training set AUC using bpr loss: %s' % np.array(bpr_auc).mean())\n",
    "print('Hybrid training set AUC using logistic loss: %s' % np.array(logistic_auc).mean())\n",
    "print('Hybrid training set AUC using warp_kos loss: %s' % np.array(warp_kos_auc).mean())"
   ]
  },
  {
   "cell_type": "code",
   "execution_count": null,
   "id": "c809dcb7",
   "metadata": {},
   "outputs": [],
   "source": []
  }
 ],
 "metadata": {
  "kernelspec": {
   "display_name": "Python 3 (ipykernel)",
   "language": "python",
   "name": "python3"
  },
  "language_info": {
   "codemirror_mode": {
    "name": "ipython",
    "version": 3
   },
   "file_extension": ".py",
   "mimetype": "text/x-python",
   "name": "python",
   "nbconvert_exporter": "python",
   "pygments_lexer": "ipython3",
   "version": "3.9.7"
  }
 },
 "nbformat": 4,
 "nbformat_minor": 5
}
