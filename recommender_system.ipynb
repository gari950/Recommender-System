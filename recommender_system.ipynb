{
 "cells": [
  {
   "cell_type": "code",
   "execution_count": 2,
   "id": "02f17ebc",
   "metadata": {},
   "outputs": [],
   "source": [
    "import numpy as np\n",
    "from lightfm.datasets import fetch_movielens\n",
    "from lightfm import LightFM"
   ]
  },
  {
   "cell_type": "code",
   "execution_count": 3,
   "id": "ba4488fe",
   "metadata": {},
   "outputs": [],
   "source": [
    "data = fetch_movielens(min_rating = 4.0)"
   ]
  },
  {
   "cell_type": "code",
   "execution_count": 72,
   "id": "cea358f0",
   "metadata": {},
   "outputs": [
    {
     "name": "stdout",
     "output_type": "stream",
     "text": [
      "<943x1682 sparse matrix of type '<class 'numpy.float32'>'\n",
      "\twith 49906 stored elements in COOrdinate format>\n",
      "<943x1682 sparse matrix of type '<class 'numpy.int32'>'\n",
      "\twith 5469 stored elements in COOrdinate format>\n"
     ]
    }
   ],
   "source": [
    "print(repr(data['train']))\n",
    "print(repr(data['test']))"
   ]
  },
  {
   "cell_type": "code",
   "execution_count": 5,
   "id": "47b861b1",
   "metadata": {},
   "outputs": [
    {
     "data": {
      "text/plain": [
       "<lightfm.lightfm.LightFM at 0x15a23f84430>"
      ]
     },
     "execution_count": 5,
     "metadata": {},
     "output_type": "execute_result"
    }
   ],
   "source": [
    "#create a model\n",
    "model = LightFM(loss='warp')\n",
    "#train the model\n",
    "model.fit(data['train'],epochs=30,num_threads=2)"
   ]
  },
  {
   "cell_type": "code",
   "execution_count": 81,
   "id": "7c804d1c",
   "metadata": {},
   "outputs": [],
   "source": [
    "def sample_recommendation(model, data, user_ids):\n",
    "    #number of users and movies in traing data\n",
    "    n_users, n_items = data['train'].shape\n",
    "    \n",
    "    # generate reccomendations for each user we input\n",
    "    for user_id in user_ids:\n",
    "        \n",
    "        # movies they already like\n",
    "        known_positives = data['item_labels'][data['train'].tocsr()[user_id].indices]\n",
    "        \n",
    "        # movies our model predicts they will like\n",
    "        scores = model.predict(user_id, np.arange(n_items))\n",
    "        \n",
    "        # rank them in order of most liked to least\n",
    "        top_items = data['item_labels'][np.argsort(-scores)]\n",
    "        \n",
    "        #print out results\n",
    "        print(\"User %s\" % user_id)\n",
    "        print(\"         Known positives:\")\n",
    "        \n",
    "        # top 3 \n",
    "        for x in known_positives[:3]:\n",
    "            print(\"       %s\" % x)\n",
    "        print()   \n",
    "        print(\"         Reccomended:\")\n",
    "        \n",
    "        # top 3 items\n",
    "        for x in top_items[:3]:\n",
    "            print(\"        %s\" % x)\n",
    "           \n",
    "    \n",
    "    \n",
    "        \n",
    " "
   ]
  },
  {
   "cell_type": "code",
   "execution_count": 82,
   "id": "b90956cf",
   "metadata": {},
   "outputs": [
    {
     "name": "stdout",
     "output_type": "stream",
     "text": [
      "User 3\n",
      "         Known positives:\n",
      "       Seven (Se7en) (1995)\n",
      "       Contact (1997)\n",
      "       Starship Troopers (1997)\n",
      "\n",
      "         Reccomended:\n",
      "        Scream (1996)\n",
      "        Cop Land (1997)\n",
      "        Starship Troopers (1997)\n",
      "User 56\n",
      "         Known positives:\n",
      "       Toy Story (1995)\n",
      "       Twelve Monkeys (1995)\n",
      "       Babe (1995)\n",
      "\n",
      "         Reccomended:\n",
      "        Rock, The (1996)\n",
      "        Star Wars (1977)\n",
      "        Return of the Jedi (1983)\n",
      "User 459\n",
      "         Known positives:\n",
      "       Postino, Il (1994)\n",
      "       Antonia's Line (1995)\n",
      "       Fargo (1996)\n",
      "\n",
      "         Reccomended:\n",
      "        English Patient, The (1996)\n",
      "        Secrets & Lies (1996)\n",
      "        L.A. Confidential (1997)\n"
     ]
    }
   ],
   "source": [
    "sample_recommendation(model, data, [3,56,459])"
   ]
  },
  {
   "cell_type": "code",
   "execution_count": null,
   "id": "8229ded2",
   "metadata": {},
   "outputs": [],
   "source": []
  }
 ],
 "metadata": {
  "kernelspec": {
   "display_name": "Python 3 (ipykernel)",
   "language": "python",
   "name": "python3"
  },
  "language_info": {
   "codemirror_mode": {
    "name": "ipython",
    "version": 3
   },
   "file_extension": ".py",
   "mimetype": "text/x-python",
   "name": "python",
   "nbconvert_exporter": "python",
   "pygments_lexer": "ipython3",
   "version": "3.9.7"
  }
 },
 "nbformat": 4,
 "nbformat_minor": 5
}
